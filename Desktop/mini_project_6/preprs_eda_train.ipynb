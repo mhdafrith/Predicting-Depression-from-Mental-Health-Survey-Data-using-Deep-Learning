{
 "cells": [
  {
   "cell_type": "markdown",
   "metadata": {},
   "source": [
    "Importing Libraries"
   ]
  },
  {
   "cell_type": "code",
   "execution_count": 152,
   "metadata": {},
   "outputs": [],
   "source": [
    "import pandas as pd\n",
    "\n",
    "\n",
    "import torch\n",
    "import torch.nn as nn\n",
    "import torch.optim as optim\n",
    "import torch.nn.functional as F\n",
    "\n",
    "import torchvision\n",
    "import torchvision.transforms as transforms\n",
    "\n",
    "import mlflow\n"
   ]
  },
  {
   "cell_type": "code",
   "execution_count": 153,
   "metadata": {},
   "outputs": [
    {
     "name": "stdout",
     "output_type": "stream",
     "text": [
      "<class 'pandas.core.frame.DataFrame'>\n",
      "RangeIndex: 140700 entries, 0 to 140699\n",
      "Data columns (total 20 columns):\n",
      " #   Column                                 Non-Null Count   Dtype  \n",
      "---  ------                                 --------------   -----  \n",
      " 0   id                                     140700 non-null  int64  \n",
      " 1   Name                                   140700 non-null  object \n",
      " 2   Gender                                 140700 non-null  object \n",
      " 3   Age                                    140700 non-null  float64\n",
      " 4   City                                   140700 non-null  object \n",
      " 5   Working Professional or Student        140700 non-null  object \n",
      " 6   Profession                             104070 non-null  object \n",
      " 7   Academic Pressure                      27897 non-null   float64\n",
      " 8   Work Pressure                          112782 non-null  float64\n",
      " 9   CGPA                                   27898 non-null   float64\n",
      " 10  Study Satisfaction                     27897 non-null   float64\n",
      " 11  Job Satisfaction                       112790 non-null  float64\n",
      " 12  Sleep Duration                         140700 non-null  object \n",
      " 13  Dietary Habits                         140696 non-null  object \n",
      " 14  Degree                                 140698 non-null  object \n",
      " 15  Have you ever had suicidal thoughts ?  140700 non-null  object \n",
      " 16  Work/Study Hours                       140700 non-null  float64\n",
      " 17  Financial Stress                       140696 non-null  float64\n",
      " 18  Family History of Mental Illness       140700 non-null  object \n",
      " 19  Depression                             140700 non-null  int64  \n",
      "dtypes: float64(8), int64(2), object(10)\n",
      "memory usage: 21.5+ MB\n"
     ]
    }
   ],
   "source": [
    "file_path='/Users/mohamedafrith/Downloads/playground-series-s4e11/train.csv'\n",
    "df=pd.read_csv(file_path)\n",
    "df.info()"
   ]
  },
  {
   "cell_type": "code",
   "execution_count": 154,
   "metadata": {},
   "outputs": [
    {
     "name": "stdout",
     "output_type": "stream",
     "text": [
      "id 140700\n",
      "Name 422\n",
      "Gender 2\n",
      "Age 43\n",
      "City 98\n",
      "Working Professional or Student 2\n",
      "Profession 64\n",
      "Academic Pressure 5\n",
      "Work Pressure 5\n",
      "CGPA 331\n",
      "Study Satisfaction 5\n",
      "Job Satisfaction 5\n",
      "Sleep Duration 36\n",
      "Dietary Habits 23\n",
      "Degree 115\n",
      "Have you ever had suicidal thoughts ? 2\n",
      "Work/Study Hours 13\n",
      "Financial Stress 5\n",
      "Family History of Mental Illness 2\n",
      "Depression 2\n"
     ]
    }
   ],
   "source": [
    "for i in df.columns:\n",
    "    unique=df[i].nunique()\n",
    "    print(i,unique)"
   ]
  },
  {
   "cell_type": "code",
   "execution_count": 155,
   "metadata": {},
   "outputs": [],
   "source": [
    "df.drop('Profession', axis=1, inplace=True)"
   ]
  },
  {
   "cell_type": "code",
   "execution_count": 156,
   "metadata": {},
   "outputs": [],
   "source": [
    "df=df.fillna(0)"
   ]
  },
  {
   "cell_type": "code",
   "execution_count": 157,
   "metadata": {},
   "outputs": [
    {
     "name": "stdout",
     "output_type": "stream",
     "text": [
      "<class 'pandas.core.frame.DataFrame'>\n",
      "RangeIndex: 140700 entries, 0 to 140699\n",
      "Data columns (total 19 columns):\n",
      " #   Column                                 Non-Null Count   Dtype  \n",
      "---  ------                                 --------------   -----  \n",
      " 0   id                                     140700 non-null  int64  \n",
      " 1   Name                                   140700 non-null  object \n",
      " 2   Gender                                 140700 non-null  object \n",
      " 3   Age                                    140700 non-null  float64\n",
      " 4   City                                   140700 non-null  object \n",
      " 5   Working Professional or Student        140700 non-null  object \n",
      " 6   Academic Pressure                      140700 non-null  float64\n",
      " 7   Work Pressure                          140700 non-null  float64\n",
      " 8   CGPA                                   140700 non-null  float64\n",
      " 9   Study Satisfaction                     140700 non-null  float64\n",
      " 10  Job Satisfaction                       140700 non-null  float64\n",
      " 11  Sleep Duration                         140700 non-null  object \n",
      " 12  Dietary Habits                         140700 non-null  object \n",
      " 13  Degree                                 140700 non-null  object \n",
      " 14  Have you ever had suicidal thoughts ?  140700 non-null  object \n",
      " 15  Work/Study Hours                       140700 non-null  float64\n",
      " 16  Financial Stress                       140700 non-null  float64\n",
      " 17  Family History of Mental Illness       140700 non-null  object \n",
      " 18  Depression                             140700 non-null  int64  \n",
      "dtypes: float64(8), int64(2), object(9)\n",
      "memory usage: 20.4+ MB\n"
     ]
    }
   ],
   "source": [
    "df.info()"
   ]
  },
  {
   "cell_type": "code",
   "execution_count": 158,
   "metadata": {},
   "outputs": [
    {
     "data": {
      "text/plain": [
       "['More than 8 hours',\n",
       " 'Less than 5 hours',\n",
       " '5-6 hours',\n",
       " '7-8 hours',\n",
       " 'Sleep_Duration',\n",
       " '1-2 hours',\n",
       " '6-8 hours',\n",
       " '4-6 hours',\n",
       " '6-7 hours',\n",
       " '10-11 hours',\n",
       " '8-9 hours',\n",
       " '40-45 hours',\n",
       " '9-11 hours',\n",
       " '2-3 hours',\n",
       " '3-4 hours',\n",
       " 'Moderate',\n",
       " '55-66 hours',\n",
       " '4-5 hours',\n",
       " '9-6 hours',\n",
       " '1-3 hours',\n",
       " 'Indore',\n",
       " '45',\n",
       " '1-6 hours',\n",
       " '35-36 hours',\n",
       " '8 hours',\n",
       " 'No',\n",
       " '10-6 hours',\n",
       " 'than 5 hours',\n",
       " '49 hours',\n",
       " 'Unhealthy',\n",
       " 'Work_Study_Hours',\n",
       " '3-6 hours',\n",
       " '45-48 hours',\n",
       " '9-5',\n",
       " 'Pune',\n",
       " '9-5 hours']"
      ]
     },
     "execution_count": 158,
     "metadata": {},
     "output_type": "execute_result"
    }
   ],
   "source": [
    "list_sd=list(df['Sleep Duration'].unique())\n",
    "list_sd"
   ]
  },
  {
   "cell_type": "code",
   "execution_count": 159,
   "metadata": {},
   "outputs": [],
   "source": [
    "# Function to categorize sleep duration\n",
    "def categorize_sleep(duration):\n",
    "    try:\n",
    "        if isinstance(duration, str):\n",
    "            duration = duration.lower()  # Convert to lowercase for uniformity\n",
    "            \n",
    "            if any(keyword in duration for keyword in ['1-2', '2-3', '3-4', '4-5', 'less than 5', 'than 5', '1-6']):\n",
    "                return 1  # 0-5 hours (Short Sleep)\n",
    "            elif any(keyword in duration for keyword in ['5-6', '6-7', '6-8', '5-7', '4-6', '3-6']):\n",
    "                return 1  # 5-7 hours (Still Short Sleep)\n",
    "            elif any(keyword in duration for keyword in ['7-8', '8 hours', '8-9']):\n",
    "                return 2  # 7-9 hours (Optimal Sleep)\n",
    "            elif any(keyword in duration for keyword in ['9+', '9-11', '10-11', 'more than 8', '9-6', '9-5', '10-6']):\n",
    "                return 3  # 9+ hours (Long Sleep)\n",
    "        \n",
    "        return None  # If not a sleep duration value, return None\n",
    "    except:\n",
    "        return None\n",
    "\n",
    "# Apply categorization to the list\n",
    "\n",
    "df['Sleep Duration'] = df['Sleep Duration'].apply(categorize_sleep)\n",
    "\n",
    "\n"
   ]
  },
  {
   "cell_type": "code",
   "execution_count": 160,
   "metadata": {},
   "outputs": [
    {
     "data": {
      "text/plain": [
       "array([ 2.,  1., nan,  3.])"
      ]
     },
     "execution_count": 160,
     "metadata": {},
     "output_type": "execute_result"
    }
   ],
   "source": [
    "df['Sleep Duration'].unique()"
   ]
  },
  {
   "cell_type": "code",
   "execution_count": 161,
   "metadata": {},
   "outputs": [
    {
     "name": "stdout",
     "output_type": "stream",
     "text": [
      "<class 'pandas.core.frame.DataFrame'>\n",
      "RangeIndex: 140700 entries, 0 to 140699\n",
      "Data columns (total 19 columns):\n",
      " #   Column                                 Non-Null Count   Dtype  \n",
      "---  ------                                 --------------   -----  \n",
      " 0   id                                     140700 non-null  int64  \n",
      " 1   Name                                   140700 non-null  object \n",
      " 2   Gender                                 140700 non-null  object \n",
      " 3   Age                                    140700 non-null  float64\n",
      " 4   City                                   140700 non-null  object \n",
      " 5   Working Professional or Student        140700 non-null  object \n",
      " 6   Academic Pressure                      140700 non-null  float64\n",
      " 7   Work Pressure                          140700 non-null  float64\n",
      " 8   CGPA                                   140700 non-null  float64\n",
      " 9   Study Satisfaction                     140700 non-null  float64\n",
      " 10  Job Satisfaction                       140700 non-null  float64\n",
      " 11  Sleep Duration                         140682 non-null  float64\n",
      " 12  Dietary Habits                         140700 non-null  object \n",
      " 13  Degree                                 140700 non-null  object \n",
      " 14  Have you ever had suicidal thoughts ?  140700 non-null  object \n",
      " 15  Work/Study Hours                       140700 non-null  float64\n",
      " 16  Financial Stress                       140700 non-null  float64\n",
      " 17  Family History of Mental Illness       140700 non-null  object \n",
      " 18  Depression                             140700 non-null  int64  \n",
      "dtypes: float64(9), int64(2), object(8)\n",
      "memory usage: 20.4+ MB\n"
     ]
    }
   ],
   "source": [
    "df.info()"
   ]
  },
  {
   "cell_type": "code",
   "execution_count": 162,
   "metadata": {},
   "outputs": [
    {
     "data": {
      "text/plain": [
       "id                                        0\n",
       "Name                                      0\n",
       "Gender                                    0\n",
       "Age                                       0\n",
       "City                                      0\n",
       "Working Professional or Student           0\n",
       "Academic Pressure                         0\n",
       "Work Pressure                             0\n",
       "CGPA                                      0\n",
       "Study Satisfaction                        0\n",
       "Job Satisfaction                          0\n",
       "Sleep Duration                           18\n",
       "Dietary Habits                            0\n",
       "Degree                                    0\n",
       "Have you ever had suicidal thoughts ?     0\n",
       "Work/Study Hours                          0\n",
       "Financial Stress                          0\n",
       "Family History of Mental Illness          0\n",
       "Depression                                0\n",
       "dtype: int64"
      ]
     },
     "execution_count": 162,
     "metadata": {},
     "output_type": "execute_result"
    }
   ],
   "source": [
    "df.isna().sum()\n"
   ]
  },
  {
   "cell_type": "code",
   "execution_count": 163,
   "metadata": {},
   "outputs": [
    {
     "name": "stderr",
     "output_type": "stream",
     "text": [
      "/var/folders/pk/yv119hjs3_34653qn5_6djlh0000gn/T/ipykernel_51316/3984534036.py:1: FutureWarning: DataFrame.fillna with 'method' is deprecated and will raise in a future version. Use obj.ffill() or obj.bfill() instead.\n",
      "  df = df.fillna(method='ffill')\n"
     ]
    }
   ],
   "source": [
    "df = df.fillna(method='ffill')\n"
   ]
  },
  {
   "cell_type": "code",
   "execution_count": 164,
   "metadata": {},
   "outputs": [],
   "source": [
    "df[['Age', 'Academic Pressure',\n",
    "    'Work Pressure','Study Satisfaction',\n",
    "    'Job Satisfaction','Sleep Duration',\n",
    "    'Financial Stress']] = df[['Age', 'Academic Pressure','Work Pressure','Study Satisfaction'\n",
    "                               ,'Job Satisfaction','Sleep Duration','Financial Stress']].astype(int)\n"
   ]
  },
  {
   "cell_type": "code",
   "execution_count": 165,
   "metadata": {},
   "outputs": [
    {
     "name": "stdout",
     "output_type": "stream",
     "text": [
      "<class 'pandas.core.frame.DataFrame'>\n",
      "RangeIndex: 140700 entries, 0 to 140699\n",
      "Data columns (total 19 columns):\n",
      " #   Column                                 Non-Null Count   Dtype  \n",
      "---  ------                                 --------------   -----  \n",
      " 0   id                                     140700 non-null  int64  \n",
      " 1   Name                                   140700 non-null  object \n",
      " 2   Gender                                 140700 non-null  object \n",
      " 3   Age                                    140700 non-null  int64  \n",
      " 4   City                                   140700 non-null  object \n",
      " 5   Working Professional or Student        140700 non-null  object \n",
      " 6   Academic Pressure                      140700 non-null  int64  \n",
      " 7   Work Pressure                          140700 non-null  int64  \n",
      " 8   CGPA                                   140700 non-null  float64\n",
      " 9   Study Satisfaction                     140700 non-null  int64  \n",
      " 10  Job Satisfaction                       140700 non-null  int64  \n",
      " 11  Sleep Duration                         140700 non-null  int64  \n",
      " 12  Dietary Habits                         140700 non-null  object \n",
      " 13  Degree                                 140700 non-null  object \n",
      " 14  Have you ever had suicidal thoughts ?  140700 non-null  object \n",
      " 15  Work/Study Hours                       140700 non-null  float64\n",
      " 16  Financial Stress                       140700 non-null  int64  \n",
      " 17  Family History of Mental Illness       140700 non-null  object \n",
      " 18  Depression                             140700 non-null  int64  \n",
      "dtypes: float64(2), int64(9), object(8)\n",
      "memory usage: 20.4+ MB\n"
     ]
    }
   ],
   "source": [
    "df.info()"
   ]
  },
  {
   "cell_type": "code",
   "execution_count": 166,
   "metadata": {},
   "outputs": [],
   "source": [
    "df['Work/Study Hours']=df['Work/Study Hours'].astype(int)"
   ]
  },
  {
   "cell_type": "code",
   "execution_count": 167,
   "metadata": {},
   "outputs": [],
   "source": [
    "df.drop(columns=['id','Name','City','Degree'], axis=1, inplace=True)\n"
   ]
  },
  {
   "cell_type": "code",
   "execution_count": 168,
   "metadata": {},
   "outputs": [
    {
     "name": "stdout",
     "output_type": "stream",
     "text": [
      "<class 'pandas.core.frame.DataFrame'>\n",
      "RangeIndex: 140700 entries, 0 to 140699\n",
      "Data columns (total 15 columns):\n",
      " #   Column                                 Non-Null Count   Dtype  \n",
      "---  ------                                 --------------   -----  \n",
      " 0   Gender                                 140700 non-null  object \n",
      " 1   Age                                    140700 non-null  int64  \n",
      " 2   Working Professional or Student        140700 non-null  object \n",
      " 3   Academic Pressure                      140700 non-null  int64  \n",
      " 4   Work Pressure                          140700 non-null  int64  \n",
      " 5   CGPA                                   140700 non-null  float64\n",
      " 6   Study Satisfaction                     140700 non-null  int64  \n",
      " 7   Job Satisfaction                       140700 non-null  int64  \n",
      " 8   Sleep Duration                         140700 non-null  int64  \n",
      " 9   Dietary Habits                         140700 non-null  object \n",
      " 10  Have you ever had suicidal thoughts ?  140700 non-null  object \n",
      " 11  Work/Study Hours                       140700 non-null  int64  \n",
      " 12  Financial Stress                       140700 non-null  int64  \n",
      " 13  Family History of Mental Illness       140700 non-null  object \n",
      " 14  Depression                             140700 non-null  int64  \n",
      "dtypes: float64(1), int64(9), object(5)\n",
      "memory usage: 16.1+ MB\n"
     ]
    }
   ],
   "source": [
    "df.info()"
   ]
  },
  {
   "cell_type": "code",
   "execution_count": 169,
   "metadata": {},
   "outputs": [
    {
     "data": {
      "text/plain": [
       "array(['Female', 'Male'], dtype=object)"
      ]
     },
     "execution_count": 169,
     "metadata": {},
     "output_type": "execute_result"
    }
   ],
   "source": [
    "df['Gender'].unique()"
   ]
  },
  {
   "cell_type": "code",
   "execution_count": 170,
   "metadata": {},
   "outputs": [],
   "source": [
    "gender_mapping = {'Male': 0, 'Female': 1}\n",
    "df['Gender'] = df['Gender'].map(gender_mapping)\n"
   ]
  },
  {
   "cell_type": "code",
   "execution_count": 171,
   "metadata": {},
   "outputs": [
    {
     "data": {
      "text/plain": [
       "array(['Working Professional', 'Student'], dtype=object)"
      ]
     },
     "execution_count": 171,
     "metadata": {},
     "output_type": "execute_result"
    }
   ],
   "source": [
    "df['Working Professional or Student'].unique()"
   ]
  },
  {
   "cell_type": "code",
   "execution_count": 172,
   "metadata": {},
   "outputs": [
    {
     "name": "stdout",
     "output_type": "stream",
     "text": [
      "<class 'pandas.core.frame.DataFrame'>\n",
      "RangeIndex: 140700 entries, 0 to 140699\n",
      "Data columns (total 15 columns):\n",
      " #   Column                                 Non-Null Count   Dtype  \n",
      "---  ------                                 --------------   -----  \n",
      " 0   Gender                                 140700 non-null  int64  \n",
      " 1   Age                                    140700 non-null  int64  \n",
      " 2   Working Professional or Student        140700 non-null  int64  \n",
      " 3   Academic Pressure                      140700 non-null  int64  \n",
      " 4   Work Pressure                          140700 non-null  int64  \n",
      " 5   CGPA                                   140700 non-null  float64\n",
      " 6   Study Satisfaction                     140700 non-null  int64  \n",
      " 7   Job Satisfaction                       140700 non-null  int64  \n",
      " 8   Sleep Duration                         140700 non-null  int64  \n",
      " 9   Dietary Habits                         140700 non-null  object \n",
      " 10  Have you ever had suicidal thoughts ?  140700 non-null  object \n",
      " 11  Work/Study Hours                       140700 non-null  int64  \n",
      " 12  Financial Stress                       140700 non-null  int64  \n",
      " 13  Family History of Mental Illness       140700 non-null  object \n",
      " 14  Depression                             140700 non-null  int64  \n",
      "dtypes: float64(1), int64(11), object(3)\n",
      "memory usage: 16.1+ MB\n"
     ]
    }
   ],
   "source": [
    "profession_mapping = {'Working Professional': 0, 'Student': 1}\n",
    "df['Working Professional or Student'] = df['Working Professional or Student'].map(profession_mapping)\n",
    "df.info()"
   ]
  },
  {
   "cell_type": "code",
   "execution_count": 173,
   "metadata": {},
   "outputs": [],
   "source": [
    "df['Study Satisfaction']=df['Study Satisfaction'].astype(int)"
   ]
  },
  {
   "cell_type": "code",
   "execution_count": 174,
   "metadata": {},
   "outputs": [
    {
     "name": "stdout",
     "output_type": "stream",
     "text": [
      "<class 'pandas.core.frame.DataFrame'>\n",
      "RangeIndex: 140700 entries, 0 to 140699\n",
      "Data columns (total 15 columns):\n",
      " #   Column                                 Non-Null Count   Dtype  \n",
      "---  ------                                 --------------   -----  \n",
      " 0   Gender                                 140700 non-null  int64  \n",
      " 1   Age                                    140700 non-null  int64  \n",
      " 2   Working Professional or Student        140700 non-null  int64  \n",
      " 3   Academic Pressure                      140700 non-null  int64  \n",
      " 4   Work Pressure                          140700 non-null  int64  \n",
      " 5   CGPA                                   140700 non-null  float64\n",
      " 6   Study Satisfaction                     140700 non-null  int64  \n",
      " 7   Job Satisfaction                       140700 non-null  int64  \n",
      " 8   Sleep Duration                         140700 non-null  int64  \n",
      " 9   Dietary Habits                         140700 non-null  object \n",
      " 10  Have you ever had suicidal thoughts ?  140700 non-null  object \n",
      " 11  Work/Study Hours                       140700 non-null  int64  \n",
      " 12  Financial Stress                       140700 non-null  int64  \n",
      " 13  Family History of Mental Illness       140700 non-null  object \n",
      " 14  Depression                             140700 non-null  int64  \n",
      "dtypes: float64(1), int64(11), object(3)\n",
      "memory usage: 16.1+ MB\n"
     ]
    }
   ],
   "source": [
    "df.info()"
   ]
  },
  {
   "cell_type": "code",
   "execution_count": 175,
   "metadata": {},
   "outputs": [
    {
     "data": {
      "text/plain": [
       "Dietary Habits\n",
       "Moderate             49705\n",
       "Unhealthy            46227\n",
       "Healthy              44741\n",
       "0                        4\n",
       "Yes                      2\n",
       "No                       2\n",
       "More Healthy             2\n",
       "Class 12                 1\n",
       "Indoor                   1\n",
       "Male                     1\n",
       "Vegas                    1\n",
       "M.Tech                   1\n",
       "Less Healthy             1\n",
       "No Healthy               1\n",
       "Hormonal                 1\n",
       "Electrician              1\n",
       "1.0                      1\n",
       "Mihir                    1\n",
       "Less than Healthy        1\n",
       "3                        1\n",
       "Gender                   1\n",
       "BSc                      1\n",
       "Pratham                  1\n",
       "2                        1\n",
       "Name: count, dtype: int64"
      ]
     },
     "execution_count": 175,
     "metadata": {},
     "output_type": "execute_result"
    }
   ],
   "source": [
    "df['Dietary Habits'].value_counts()\n"
   ]
  },
  {
   "cell_type": "code",
   "execution_count": 176,
   "metadata": {},
   "outputs": [],
   "source": [
    "# Define valid categories\n",
    "valid_categories = ['Moderate', 'Unhealthy', 'Healthy']\n",
    "\n",
    "# Find mode of the column\n",
    "mode_value = df['Dietary Habits'].mode()[0]\n",
    "\n",
    "# Replace invalid values with mode\n",
    "df['Dietary Habits'] = df['Dietary Habits'].apply(lambda x: x if x in valid_categories else mode_value)\n"
   ]
  },
  {
   "cell_type": "code",
   "execution_count": 177,
   "metadata": {},
   "outputs": [],
   "source": [
    "diet_mapping={'Healthy':0, 'Unhealthy':1, 'Moderate':2}\n",
    "df['Dietary Habits'] = df['Dietary Habits'].map(diet_mapping)"
   ]
  },
  {
   "cell_type": "code",
   "execution_count": 178,
   "metadata": {},
   "outputs": [
    {
     "name": "stdout",
     "output_type": "stream",
     "text": [
      "<class 'pandas.core.frame.DataFrame'>\n",
      "RangeIndex: 140700 entries, 0 to 140699\n",
      "Data columns (total 15 columns):\n",
      " #   Column                                 Non-Null Count   Dtype  \n",
      "---  ------                                 --------------   -----  \n",
      " 0   Gender                                 140700 non-null  int64  \n",
      " 1   Age                                    140700 non-null  int64  \n",
      " 2   Working Professional or Student        140700 non-null  int64  \n",
      " 3   Academic Pressure                      140700 non-null  int64  \n",
      " 4   Work Pressure                          140700 non-null  int64  \n",
      " 5   CGPA                                   140700 non-null  float64\n",
      " 6   Study Satisfaction                     140700 non-null  int64  \n",
      " 7   Job Satisfaction                       140700 non-null  int64  \n",
      " 8   Sleep Duration                         140700 non-null  int64  \n",
      " 9   Dietary Habits                         140700 non-null  int64  \n",
      " 10  Have you ever had suicidal thoughts ?  140700 non-null  object \n",
      " 11  Work/Study Hours                       140700 non-null  int64  \n",
      " 12  Financial Stress                       140700 non-null  int64  \n",
      " 13  Family History of Mental Illness       140700 non-null  object \n",
      " 14  Depression                             140700 non-null  int64  \n",
      "dtypes: float64(1), int64(12), object(2)\n",
      "memory usage: 16.1+ MB\n"
     ]
    }
   ],
   "source": [
    "df.info()"
   ]
  },
  {
   "cell_type": "code",
   "execution_count": 179,
   "metadata": {},
   "outputs": [],
   "source": [
    "sucide_mapping={'No':0, 'Yes':1}\n",
    "df['Have you ever had suicidal thoughts ?']=df['Have you ever had suicidal thoughts ?'].map(sucide_mapping)\n"
   ]
  },
  {
   "cell_type": "code",
   "execution_count": 180,
   "metadata": {},
   "outputs": [],
   "source": [
    "def mapping(column_name):\n",
    "    unique_values = df[column_name].unique()\n",
    "    mapping_dict = {val: idx for idx, val in enumerate(unique_values)}\n",
    "    df[column_name] = df[column_name].map(mapping_dict)\n",
    "\n"
   ]
  },
  {
   "cell_type": "code",
   "execution_count": 181,
   "metadata": {},
   "outputs": [],
   "source": [
    "mapping('Family History of Mental Illness')"
   ]
  },
  {
   "cell_type": "code",
   "execution_count": 182,
   "metadata": {},
   "outputs": [],
   "source": [
    "X = df.drop(columns='Depression', axis=1)\n",
    "y = df[['Depression']]\n"
   ]
  },
  {
   "cell_type": "code",
   "execution_count": 183,
   "metadata": {},
   "outputs": [],
   "source": [
    "from sklearn.model_selection import train_test_split\n",
    "from sklearn.preprocessing import StandardScaler\n",
    "\n",
    "# 1️⃣ Split data first\n",
    "X_train, X_test, y_train, y_test = train_test_split(X, y, test_size=0.2, random_state=42)\n",
    "\n",
    "# 2️⃣ Scale only on training data\n",
    "scaler = StandardScaler()\n",
    "X_train_scaled = scaler.fit_transform(X_train)  # Fit & transform on training data\n",
    "X_test_scaled = scaler.transform(X_test)  # Only transform test data (No fit!)\n",
    "\n",
    "# Now, train your model using X_train_scaled\n"
   ]
  },
  {
   "cell_type": "code",
   "execution_count": 184,
   "metadata": {},
   "outputs": [],
   "source": [
    "from sklearn.preprocessing import StandardScaler\n",
    "import pickle\n",
    "\n",
    "# Initialize the scaler\n",
    "scaler = StandardScaler()\n",
    "\n",
    "# Fit on training data only (not the whole dataset!)\n",
    "scaler.fit(X_train)\n",
    "\n",
    "# Save the trained scaler\n",
    "with open(\"scaler.pkl\", \"wb\") as f:\n",
    "    pickle.dump(scaler, f)\n",
    "\n"
   ]
  },
  {
   "cell_type": "code",
   "execution_count": 185,
   "metadata": {},
   "outputs": [],
   "source": [
    "import torch\n",
    "\n",
    "# Convert X_train and X_test (assuming they are already NumPy arrays)\n",
    "X_train_torch = torch.tensor(X_train_scaled, dtype=torch.float32)\n",
    "X_test_torch = torch.tensor(X_test_scaled, dtype=torch.float32)\n",
    "\n",
    "# Convert y_train and y_test from DataFrame to NumPy array first\n",
    "y_train_torch = torch.tensor(y_train.to_numpy(), dtype=torch.float32).reshape(-1, 1)\n",
    "y_test_torch = torch.tensor(y_test.to_numpy(), dtype=torch.float32).reshape(-1, 1)\n"
   ]
  },
  {
   "cell_type": "code",
   "execution_count": 186,
   "metadata": {},
   "outputs": [],
   "source": [
    "import torch.nn as nn\n",
    " \n",
    "class NeuralNetwork(nn.Module):\n",
    "    def __init__(self):\n",
    "        super().__init__()\n",
    "        self.hidden = nn.Linear(14, 7)\n",
    "        self.relu = nn.ReLU()\n",
    "        self.output = nn.Linear(7, 1)\n",
    "        self.sigmoid = nn.Sigmoid()\n",
    " \n",
    "    def forward(self, x):\n",
    "        x = self.relu(self.hidden(x))\n",
    "        x = self.sigmoid(self.output(x))\n",
    "        return x"
   ]
  },
  {
   "cell_type": "code",
   "execution_count": 187,
   "metadata": {},
   "outputs": [],
   "source": [
    "model=NeuralNetwork()"
   ]
  },
  {
   "cell_type": "code",
   "execution_count": 188,
   "metadata": {},
   "outputs": [],
   "source": [
    "import copy\n",
    "import numpy as np\n",
    "import torch\n",
    "import torch.nn as nn\n",
    "import torch.optim as optim\n",
    "import tqdm\n",
    "\n",
    "def model_train(model, X_train, y_train, X_val, y_val):\n",
    "    # loss function and optimizer\n",
    "    loss_fn = nn.BCELoss()  # binary cross entropy\n",
    "    optimizer = optim.Adam(model.parameters(), lr=0.0001)\n",
    "\n",
    "    n_epochs = 5   # number of epochs to run\n",
    "    batch_size = 64  # size of each batch\n",
    "    batch_start = torch.arange(0, len(X_train), batch_size)\n",
    "\n",
    "    # Hold the best model\n",
    "    best_acc = - np.inf   # init to negative infinity\n",
    "    best_weights = None\n",
    "\n",
    "    for epoch in range(n_epochs):\n",
    "        model.train()\n",
    "        with tqdm.tqdm(batch_start, unit=\"batch\", mininterval=0, disable=True) as bar:\n",
    "            bar.set_description(f\"Epoch {epoch}\")\n",
    "            for start in bar:\n",
    "                # take a batch\n",
    "                X_batch = X_train[start:start+batch_size]\n",
    "                y_batch = y_train[start:start+batch_size]\n",
    "                # forward pass\n",
    "                y_pred = model(X_batch)\n",
    "                loss = loss_fn(y_pred, y_batch)\n",
    "                # backward pass\n",
    "                optimizer.zero_grad()\n",
    "                loss.backward()\n",
    "                # update weights\n",
    "                optimizer.step()\n",
    "                # print progress\n",
    "                acc = (y_pred.round() == y_batch).float().mean()\n",
    "                bar.set_postfix(\n",
    "                    loss=float(loss),\n",
    "                    acc=float(acc)\n",
    "                )\n",
    "        # evaluate accuracy at end of each epoch\n",
    "        model.eval()\n",
    "        y_pred = model(X_val)\n",
    "        acc = (y_pred.round() == y_val).float().mean()\n",
    "        acc = float(acc)\n",
    "        if acc > best_acc:\n",
    "            best_acc = acc\n",
    "            best_weights = copy.deepcopy(model.state_dict())\n",
    "    # restore model and return best accuracy\n",
    "    model.load_state_dict(best_weights)\n",
    "    return best_acc"
   ]
  },
  {
   "cell_type": "code",
   "execution_count": 189,
   "metadata": {},
   "outputs": [
    {
     "data": {
      "text/plain": [
       "0.9330490231513977"
      ]
     },
     "execution_count": 189,
     "metadata": {},
     "output_type": "execute_result"
    }
   ],
   "source": [
    "model_train(model,X_train_torch,y_train_torch,X_test_torch,y_test_torch)\n"
   ]
  },
  {
   "cell_type": "code",
   "execution_count": 190,
   "metadata": {},
   "outputs": [],
   "source": [
    "mlflow.set_tracking_uri(\"http://127.0.0.1:5000\")"
   ]
  },
  {
   "cell_type": "code",
   "execution_count": 191,
   "metadata": {},
   "outputs": [
    {
     "name": "stderr",
     "output_type": "stream",
     "text": [
      "\u001b[31m2025/03/03 17:02:16 WARNING mlflow.models.model: Model logged without a signature and input example. Please set `input_example` parameter when logging the model to auto infer the model signature.\u001b[0m\n"
     ]
    },
    {
     "name": "stdout",
     "output_type": "stream",
     "text": [
      "Model logged in MLflow successfully!\n",
      "🏃 View run Depression_model at: http://127.0.0.1:5000/#/experiments/389209041133176424/runs/c53db4608bbf4a668de65b844c984a97\n",
      "🧪 View experiment at: http://127.0.0.1:5000/#/experiments/389209041133176424\n"
     ]
    }
   ],
   "source": [
    "# Initialize MLflow experiment\n",
    "mlflow.set_experiment(\"Depression_Prediction\")\n",
    "\n",
    "# Train the model and log into MLflow\n",
    "with mlflow.start_run(run_name='Depression_model'):\n",
    "    mlflow.log_param(\"input_size\", 14)\n",
    "    mlflow.log_param(\"hidden_size\", 7)\n",
    "    mlflow.log_param(\"output_size\", 1)\n",
    "    \n",
    "\n",
    "    # Log the PyTorch model in MLflow\n",
    "    mlflow.pytorch.log_model(model, artifact_path=\"depression_model\")\n",
    "\n",
    "    print(\"Model logged in MLflow successfully!\")"
   ]
  },
  {
   "cell_type": "code",
   "execution_count": 192,
   "metadata": {},
   "outputs": [],
   "source": [
    "import torch\n",
    "torch.save(model.state_dict(), \"model.pth\")  # Save model weights only\n"
   ]
  }
 ],
 "metadata": {
  "kernelspec": {
   "display_name": "Python 3",
   "language": "python",
   "name": "python3"
  },
  "language_info": {
   "codemirror_mode": {
    "name": "ipython",
    "version": 3
   },
   "file_extension": ".py",
   "mimetype": "text/x-python",
   "name": "python",
   "nbconvert_exporter": "python",
   "pygments_lexer": "ipython3",
   "version": "3.11.5"
  }
 },
 "nbformat": 4,
 "nbformat_minor": 2
}
